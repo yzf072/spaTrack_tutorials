{
 "cells": [
  {
   "attachments": {},
   "cell_type": "markdown",
   "id": "e02e2afa",
   "metadata": {},
   "source": [
    "# Multi-time transfer"
   ]
  },
  {
   "cell_type": "code",
   "execution_count": 1,
   "id": "1b0f278d",
   "metadata": {},
   "outputs": [],
   "source": [
    "import sys\n",
    "sys.path.append('/Users/yzf/Desktop/spaTrack')"
   ]
  },
  {
   "attachments": {},
   "cell_type": "markdown",
   "id": "4b54493b",
   "metadata": {},
   "source": [
    "In this tutorial, We use mouse midbrain data to demonstrate cell transfer at multiple time points."
   ]
  },
  {
   "cell_type": "code",
   "execution_count": 2,
   "id": "26e24976-e691-4d8a-8b45-477d70825aad",
   "metadata": {},
   "outputs": [],
   "source": [
    "import spaTrack as spt\n",
    "import anndata as ad\n",
    "\n",
    "import warnings\n",
    "warnings.filterwarnings(\"ignore\")"
   ]
  },
  {
   "attachments": {},
   "cell_type": "markdown",
   "id": "b5d40025",
   "metadata": {},
   "source": [
    "Import data and correct coordinate information to facilitate tiling display effect."
   ]
  },
  {
   "cell_type": "code",
   "execution_count": 3,
   "id": "8a4f8c99-d437-4bef-8e61-d2215d846e20",
   "metadata": {},
   "outputs": [],
   "source": [
    "adata1 = ad.read(\"/Users/yzf/Desktop/220808_streamplot/data/230317_mus_midbrain/E125.h5ad\")\n",
    "adata2 = ad.read(\"/Users/yzf/Desktop/220808_streamplot/data/230317_mus_midbrain/E145.h5ad\")\n",
    "adata3 = ad.read(\"/Users/yzf/Desktop/220808_streamplot/data/230317_mus_midbrain/E165.h5ad\")\n",
    "\n",
    "adata1.obsm['spatial'][:, 1] = adata1.obsm['spatial'][:, 1]/2-5000"
   ]
  },
  {
   "attachments": {},
   "cell_type": "markdown",
   "id": "ad0af06b",
   "metadata": {},
   "source": [
    "Limit cell types to 'RGC', 'NeuB', and 'GlioB' that we are interested in."
   ]
  },
  {
   "cell_type": "code",
   "execution_count": 4,
   "id": "897a591e",
   "metadata": {},
   "outputs": [],
   "source": [
    "adata1_sub = adata1[adata1.obs['annotation'].isin(['RGC', 'NeuB', 'GlioB'])]\n",
    "adata2_sub = adata2[adata2.obs['annotation'].isin(['RGC', 'NeuB', 'GlioB'])]\n",
    "adata3_sub = adata3[adata3.obs['annotation'].isin(['RGC', 'NeuB', 'GlioB'])]"
   ]
  },
  {
   "cell_type": "markdown",
   "id": "505418b5",
   "metadata": {},
   "source": [
    "Calculate the transfer matrix."
   ]
  },
  {
   "cell_type": "code",
   "execution_count": 5,
   "id": "81b7f963-4e0f-49d5-a40e-f228320bb586",
   "metadata": {},
   "outputs": [],
   "source": [
    "pi12 = spt.transfer_matrix(adata1_sub,adata2_sub)\n",
    "pi23 = spt.transfer_matrix(adata2_sub,adata3_sub)"
   ]
  },
  {
   "attachments": {},
   "cell_type": "markdown",
   "id": "271da858",
   "metadata": {},
   "source": [
    "Input data transformation."
   ]
  },
  {
   "cell_type": "code",
   "execution_count": 6,
   "id": "ea1cc498-9908-4b0f-8409-a6219addf83c",
   "metadata": {},
   "outputs": [],
   "source": [
    "pi_matrix_coord = spt.generate_animate_input(pi_list=[pi12,pi23],\n",
    "                                                   adata_list=[adata1_sub,adata2_sub,adata3_sub],\n",
    "                                                   time ='Time point',\n",
    "                                                   annotation='annotation')\n",
    "pi_matrix_coord.to_csv(\"./test.csv\")"
   ]
  },
  {
   "cell_type": "markdown",
   "id": "657e205e",
   "metadata": {},
   "source": [
    "Show animate transfer."
   ]
  },
  {
   "cell_type": "code",
   "execution_count": 7,
   "id": "304940fd-7120-417b-98e1-20d40da91fc5",
   "metadata": {},
   "outputs": [],
   "source": [
    "spt.animate_transfer(adata_list=[adata1,adata2,adata3],\n",
    "                 transfer_path='./test.csv',\n",
    "                 fig_title = \" 'RGC' transfer from E12.5 E14.5 to E16.5\",\n",
    "                 time ='Time point',\n",
    "                 annotation='annotation',\n",
    "                 save_path='./test.html',\n",
    "                 times=['E12.5','E14.5','E16.5'])"
   ]
  },
  {
   "cell_type": "markdown",
   "id": "470f4249",
   "metadata": {},
   "source": [
    "<iframe src=\"../_static/more_time.html\" width=\"100%\" height=\"500\"></iframe>"
   ]
  }
 ],
 "metadata": {
  "kernelspec": {
   "display_name": "Python 3 (ipykernel)",
   "language": "python",
   "name": "python3"
  },
  "language_info": {
   "codemirror_mode": {
    "name": "ipython",
    "version": 3
   },
   "file_extension": ".py",
   "mimetype": "text/x-python",
   "name": "python",
   "nbconvert_exporter": "python",
   "pygments_lexer": "ipython3",
   "version": "3.9.13"
  }
 },
 "nbformat": 4,
 "nbformat_minor": 5
}
